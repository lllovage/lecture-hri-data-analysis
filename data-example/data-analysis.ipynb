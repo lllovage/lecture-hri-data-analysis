{
 "cells": [
  {
   "cell_type": "markdown",
   "metadata": {},
   "source": [
    "# Example of data analyis with Python pandas\n",
    "\n",
    "We are going to use the dataset used in [this paper](https://doi.org/10.1109/HRI.2019.8673313) on persuasion by K. Winkle. In this study, participants were asked to repeat a gesture as long as possible, with the robot using 3 different techniques to encourage them to continue even longer.\n",
    "\n",
    "First, let's import standard Python packages for data analysis. `pandas` is aliased to `pd` to save time."
   ]
  },
  {
   "cell_type": "code",
   "execution_count": 3,
   "metadata": {},
   "outputs": [],
   "source": [
    "import numpy as np\n",
    "import pandas as pd\n",
    "from scipy.stats import pearsonr, ttest_ind\n",
    "import seaborn as sns\n",
    "sns.set(style=\"whitegrid\")"
   ]
  },
  {
   "cell_type": "markdown",
   "metadata": {},
   "source": [
    "We can quickly load our data with `pd.read_csv`. This creates a **dataframe** (`df`) that holds our data (think of it as a spreadsheet on steroids)."
   ]
  },
  {
   "cell_type": "code",
   "execution_count": 5,
   "metadata": {},
   "outputs": [
    {
     "data": {
      "text/html": [
       "<div>\n",
       "<style scoped>\n",
       "    .dataframe tbody tr th:only-of-type {\n",
       "        vertical-align: middle;\n",
       "    }\n",
       "\n",
       "    .dataframe tbody tr th {\n",
       "        vertical-align: top;\n",
       "    }\n",
       "\n",
       "    .dataframe thead th {\n",
       "        text-align: right;\n",
       "    }\n",
       "</style>\n",
       "<table border=\"1\" class=\"dataframe\">\n",
       "  <thead>\n",
       "    <tr style=\"text-align: right;\">\n",
       "      <th></th>\n",
       "      <th>idx</th>\n",
       "      <th>duration</th>\n",
       "      <th>id</th>\n",
       "      <th>age</th>\n",
       "      <th>gender</th>\n",
       "      <th>lang</th>\n",
       "      <th>native_speaker</th>\n",
       "      <th>ethnicity</th>\n",
       "      <th>experience_therapy</th>\n",
       "      <th>experience_therapy_text</th>\n",
       "      <th>...</th>\n",
       "      <th>subscale_expertise</th>\n",
       "      <th>subscale_trustworthiness</th>\n",
       "      <th>subscale_goodwill</th>\n",
       "      <th>subscale_sociability</th>\n",
       "      <th>subscale_likeability</th>\n",
       "      <th>subscale_expertise_posthoc</th>\n",
       "      <th>subscale_trustworthiness_posthoc</th>\n",
       "      <th>subscale_goodwill_posthoc</th>\n",
       "      <th>subscale_sociability_posthoc</th>\n",
       "      <th>subscale_likeability_posthoc</th>\n",
       "    </tr>\n",
       "  </thead>\n",
       "  <tbody>\n",
       "    <tr>\n",
       "      <th>0</th>\n",
       "      <td>0</td>\n",
       "      <td>1504</td>\n",
       "      <td>C1</td>\n",
       "      <td>2</td>\n",
       "      <td>Female</td>\n",
       "      <td>portuguese</td>\n",
       "      <td>False</td>\n",
       "      <td>2</td>\n",
       "      <td>2</td>\n",
       "      <td>NaN</td>\n",
       "      <td>...</td>\n",
       "      <td>5.000</td>\n",
       "      <td>5.000000</td>\n",
       "      <td>3.833333</td>\n",
       "      <td>4.000000</td>\n",
       "      <td>5.0</td>\n",
       "      <td>5.000</td>\n",
       "      <td>4.777778</td>\n",
       "      <td>4.500000</td>\n",
       "      <td>5.000000</td>\n",
       "      <td>5.0</td>\n",
       "    </tr>\n",
       "    <tr>\n",
       "      <th>1</th>\n",
       "      <td>1</td>\n",
       "      <td>920</td>\n",
       "      <td>C2</td>\n",
       "      <td>3</td>\n",
       "      <td>Female</td>\n",
       "      <td>english</td>\n",
       "      <td>True</td>\n",
       "      <td>1</td>\n",
       "      <td>1</td>\n",
       "      <td>NaN</td>\n",
       "      <td>...</td>\n",
       "      <td>4.000</td>\n",
       "      <td>4.555556</td>\n",
       "      <td>4.666667</td>\n",
       "      <td>5.000000</td>\n",
       "      <td>3.2</td>\n",
       "      <td>3.500</td>\n",
       "      <td>3.444444</td>\n",
       "      <td>4.166667</td>\n",
       "      <td>5.000000</td>\n",
       "      <td>4.8</td>\n",
       "    </tr>\n",
       "    <tr>\n",
       "      <th>2</th>\n",
       "      <td>2</td>\n",
       "      <td>2647</td>\n",
       "      <td>C3</td>\n",
       "      <td>2</td>\n",
       "      <td>Female</td>\n",
       "      <td>maltese</td>\n",
       "      <td>False</td>\n",
       "      <td>1</td>\n",
       "      <td>2</td>\n",
       "      <td>NaN</td>\n",
       "      <td>...</td>\n",
       "      <td>5.000</td>\n",
       "      <td>4.000000</td>\n",
       "      <td>4.500000</td>\n",
       "      <td>4.666667</td>\n",
       "      <td>4.0</td>\n",
       "      <td>3.000</td>\n",
       "      <td>4.000000</td>\n",
       "      <td>3.500000</td>\n",
       "      <td>5.000000</td>\n",
       "      <td>4.4</td>\n",
       "    </tr>\n",
       "    <tr>\n",
       "      <th>3</th>\n",
       "      <td>3</td>\n",
       "      <td>1963</td>\n",
       "      <td>C4</td>\n",
       "      <td>3</td>\n",
       "      <td>Female</td>\n",
       "      <td>spanish and catalan (both mother language)</td>\n",
       "      <td>False</td>\n",
       "      <td>1</td>\n",
       "      <td>1</td>\n",
       "      <td>Knee and upper back</td>\n",
       "      <td>...</td>\n",
       "      <td>4.250</td>\n",
       "      <td>3.666667</td>\n",
       "      <td>3.666667</td>\n",
       "      <td>4.666667</td>\n",
       "      <td>4.8</td>\n",
       "      <td>3.375</td>\n",
       "      <td>3.222222</td>\n",
       "      <td>2.666667</td>\n",
       "      <td>4.666667</td>\n",
       "      <td>4.4</td>\n",
       "    </tr>\n",
       "    <tr>\n",
       "      <th>4</th>\n",
       "      <td>4</td>\n",
       "      <td>774</td>\n",
       "      <td>C5</td>\n",
       "      <td>2</td>\n",
       "      <td>Female</td>\n",
       "      <td>english</td>\n",
       "      <td>True</td>\n",
       "      <td>1</td>\n",
       "      <td>2</td>\n",
       "      <td>NaN</td>\n",
       "      <td>...</td>\n",
       "      <td>3.125</td>\n",
       "      <td>3.777778</td>\n",
       "      <td>2.666667</td>\n",
       "      <td>5.000000</td>\n",
       "      <td>4.0</td>\n",
       "      <td>4.250</td>\n",
       "      <td>3.666667</td>\n",
       "      <td>2.666667</td>\n",
       "      <td>5.000000</td>\n",
       "      <td>4.2</td>\n",
       "    </tr>\n",
       "    <tr>\n",
       "      <th>...</th>\n",
       "      <td>...</td>\n",
       "      <td>...</td>\n",
       "      <td>...</td>\n",
       "      <td>...</td>\n",
       "      <td>...</td>\n",
       "      <td>...</td>\n",
       "      <td>...</td>\n",
       "      <td>...</td>\n",
       "      <td>...</td>\n",
       "      <td>...</td>\n",
       "      <td>...</td>\n",
       "      <td>...</td>\n",
       "      <td>...</td>\n",
       "      <td>...</td>\n",
       "      <td>...</td>\n",
       "      <td>...</td>\n",
       "      <td>...</td>\n",
       "      <td>...</td>\n",
       "      <td>...</td>\n",
       "      <td>...</td>\n",
       "      <td>...</td>\n",
       "    </tr>\n",
       "    <tr>\n",
       "      <th>85</th>\n",
       "      <td>85</td>\n",
       "      <td>1540</td>\n",
       "      <td>E17</td>\n",
       "      <td>2</td>\n",
       "      <td>Male</td>\n",
       "      <td>french</td>\n",
       "      <td>False</td>\n",
       "      <td>1</td>\n",
       "      <td>1</td>\n",
       "      <td>Knee issue, was recommended to do streches at ...</td>\n",
       "      <td>...</td>\n",
       "      <td>4.625</td>\n",
       "      <td>4.444444</td>\n",
       "      <td>3.500000</td>\n",
       "      <td>5.000000</td>\n",
       "      <td>5.0</td>\n",
       "      <td>4.375</td>\n",
       "      <td>4.333333</td>\n",
       "      <td>5.000000</td>\n",
       "      <td>4.666667</td>\n",
       "      <td>4.4</td>\n",
       "    </tr>\n",
       "    <tr>\n",
       "      <th>86</th>\n",
       "      <td>86</td>\n",
       "      <td>1699</td>\n",
       "      <td>E18</td>\n",
       "      <td>1</td>\n",
       "      <td>Male</td>\n",
       "      <td>english</td>\n",
       "      <td>True</td>\n",
       "      <td>1</td>\n",
       "      <td>2</td>\n",
       "      <td>NaN</td>\n",
       "      <td>...</td>\n",
       "      <td>4.000</td>\n",
       "      <td>4.444444</td>\n",
       "      <td>3.833333</td>\n",
       "      <td>4.666667</td>\n",
       "      <td>4.6</td>\n",
       "      <td>3.500</td>\n",
       "      <td>3.666667</td>\n",
       "      <td>3.833333</td>\n",
       "      <td>3.666667</td>\n",
       "      <td>3.8</td>\n",
       "    </tr>\n",
       "    <tr>\n",
       "      <th>87</th>\n",
       "      <td>87</td>\n",
       "      <td>1152</td>\n",
       "      <td>E19</td>\n",
       "      <td>3</td>\n",
       "      <td>Male</td>\n",
       "      <td>english</td>\n",
       "      <td>True</td>\n",
       "      <td>1</td>\n",
       "      <td>2</td>\n",
       "      <td>NaN</td>\n",
       "      <td>...</td>\n",
       "      <td>3.250</td>\n",
       "      <td>3.666667</td>\n",
       "      <td>2.666667</td>\n",
       "      <td>3.000000</td>\n",
       "      <td>3.2</td>\n",
       "      <td>3.125</td>\n",
       "      <td>3.444444</td>\n",
       "      <td>3.000000</td>\n",
       "      <td>3.333333</td>\n",
       "      <td>3.4</td>\n",
       "    </tr>\n",
       "    <tr>\n",
       "      <th>88</th>\n",
       "      <td>88</td>\n",
       "      <td>1908</td>\n",
       "      <td>E20</td>\n",
       "      <td>1</td>\n",
       "      <td>Male</td>\n",
       "      <td>english</td>\n",
       "      <td>True</td>\n",
       "      <td>8</td>\n",
       "      <td>2</td>\n",
       "      <td>NaN</td>\n",
       "      <td>...</td>\n",
       "      <td>4.625</td>\n",
       "      <td>4.444444</td>\n",
       "      <td>4.500000</td>\n",
       "      <td>5.000000</td>\n",
       "      <td>4.2</td>\n",
       "      <td>4.500</td>\n",
       "      <td>4.666667</td>\n",
       "      <td>4.666667</td>\n",
       "      <td>4.666667</td>\n",
       "      <td>4.8</td>\n",
       "    </tr>\n",
       "    <tr>\n",
       "      <th>89</th>\n",
       "      <td>89</td>\n",
       "      <td>1340</td>\n",
       "      <td>E21</td>\n",
       "      <td>2</td>\n",
       "      <td>Female</td>\n",
       "      <td>italian</td>\n",
       "      <td>False</td>\n",
       "      <td>1</td>\n",
       "      <td>2</td>\n",
       "      <td>NaN</td>\n",
       "      <td>...</td>\n",
       "      <td>4.250</td>\n",
       "      <td>3.444444</td>\n",
       "      <td>3.833333</td>\n",
       "      <td>4.333333</td>\n",
       "      <td>5.0</td>\n",
       "      <td>3.875</td>\n",
       "      <td>3.666667</td>\n",
       "      <td>4.666667</td>\n",
       "      <td>5.000000</td>\n",
       "      <td>5.0</td>\n",
       "    </tr>\n",
       "  </tbody>\n",
       "</table>\n",
       "<p>90 rows × 109 columns</p>\n",
       "</div>"
      ],
      "text/plain": [
       "    idx  duration   id  age  gender  \\\n",
       "0     0      1504   C1    2  Female   \n",
       "1     1       920   C2    3  Female   \n",
       "2     2      2647   C3    2  Female   \n",
       "3     3      1963   C4    3  Female   \n",
       "4     4       774   C5    2  Female   \n",
       "..  ...       ...  ...  ...     ...   \n",
       "85   85      1540  E17    2    Male   \n",
       "86   86      1699  E18    1    Male   \n",
       "87   87      1152  E19    3    Male   \n",
       "88   88      1908  E20    1    Male   \n",
       "89   89      1340  E21    2  Female   \n",
       "\n",
       "                                          lang  native_speaker  ethnicity  \\\n",
       "0                                   portuguese           False          2   \n",
       "1                                      english            True          1   \n",
       "2                                      maltese           False          1   \n",
       "3   spanish and catalan (both mother language)           False          1   \n",
       "4                                      english            True          1   \n",
       "..                                         ...             ...        ...   \n",
       "85                                      french           False          1   \n",
       "86                                     english            True          1   \n",
       "87                                     english            True          1   \n",
       "88                                     english            True          8   \n",
       "89                                     italian           False          1   \n",
       "\n",
       "    experience_therapy                            experience_therapy_text  \\\n",
       "0                    2                                                NaN   \n",
       "1                    1                                                NaN   \n",
       "2                    2                                                NaN   \n",
       "3                    1                                Knee and upper back   \n",
       "4                    2                                                NaN   \n",
       "..                 ...                                                ...   \n",
       "85                   1  Knee issue, was recommended to do streches at ...   \n",
       "86                   2                                                NaN   \n",
       "87                   2                                                NaN   \n",
       "88                   2                                                NaN   \n",
       "89                   2                                                NaN   \n",
       "\n",
       "    ...  subscale_expertise  subscale_trustworthiness  subscale_goodwill  \\\n",
       "0   ...               5.000                  5.000000           3.833333   \n",
       "1   ...               4.000                  4.555556           4.666667   \n",
       "2   ...               5.000                  4.000000           4.500000   \n",
       "3   ...               4.250                  3.666667           3.666667   \n",
       "4   ...               3.125                  3.777778           2.666667   \n",
       "..  ...                 ...                       ...                ...   \n",
       "85  ...               4.625                  4.444444           3.500000   \n",
       "86  ...               4.000                  4.444444           3.833333   \n",
       "87  ...               3.250                  3.666667           2.666667   \n",
       "88  ...               4.625                  4.444444           4.500000   \n",
       "89  ...               4.250                  3.444444           3.833333   \n",
       "\n",
       "    subscale_sociability  subscale_likeability  subscale_expertise_posthoc  \\\n",
       "0               4.000000                   5.0                       5.000   \n",
       "1               5.000000                   3.2                       3.500   \n",
       "2               4.666667                   4.0                       3.000   \n",
       "3               4.666667                   4.8                       3.375   \n",
       "4               5.000000                   4.0                       4.250   \n",
       "..                   ...                   ...                         ...   \n",
       "85              5.000000                   5.0                       4.375   \n",
       "86              4.666667                   4.6                       3.500   \n",
       "87              3.000000                   3.2                       3.125   \n",
       "88              5.000000                   4.2                       4.500   \n",
       "89              4.333333                   5.0                       3.875   \n",
       "\n",
       "    subscale_trustworthiness_posthoc  subscale_goodwill_posthoc  \\\n",
       "0                           4.777778                   4.500000   \n",
       "1                           3.444444                   4.166667   \n",
       "2                           4.000000                   3.500000   \n",
       "3                           3.222222                   2.666667   \n",
       "4                           3.666667                   2.666667   \n",
       "..                               ...                        ...   \n",
       "85                          4.333333                   5.000000   \n",
       "86                          3.666667                   3.833333   \n",
       "87                          3.444444                   3.000000   \n",
       "88                          4.666667                   4.666667   \n",
       "89                          3.666667                   4.666667   \n",
       "\n",
       "    subscale_sociability_posthoc  subscale_likeability_posthoc  \n",
       "0                       5.000000                           5.0  \n",
       "1                       5.000000                           4.8  \n",
       "2                       5.000000                           4.4  \n",
       "3                       4.666667                           4.4  \n",
       "4                       5.000000                           4.2  \n",
       "..                           ...                           ...  \n",
       "85                      4.666667                           4.4  \n",
       "86                      3.666667                           3.8  \n",
       "87                      3.333333                           3.4  \n",
       "88                      4.666667                           4.8  \n",
       "89                      5.000000                           5.0  \n",
       "\n",
       "[90 rows x 109 columns]"
      ]
     },
     "execution_count": 5,
     "metadata": {},
     "output_type": "execute_result"
    }
   ],
   "source": [
    "df = pd.read_csv(\"hri-study-persuasion.csv\")\n",
    "df"
   ]
  },
  {
   "cell_type": "markdown",
   "metadata": {},
   "source": [
    "We select the columns we are interested in, and remove all the rows where data is missing (`dropna`: drop 'not available'):"
   ]
  },
  {
   "cell_type": "code",
   "execution_count": 17,
   "metadata": {},
   "outputs": [
    {
     "data": {
      "text/html": [
       "<div>\n",
       "<style scoped>\n",
       "    .dataframe tbody tr th:only-of-type {\n",
       "        vertical-align: middle;\n",
       "    }\n",
       "\n",
       "    .dataframe tbody tr th {\n",
       "        vertical-align: top;\n",
       "    }\n",
       "\n",
       "    .dataframe thead th {\n",
       "        text-align: right;\n",
       "    }\n",
       "</style>\n",
       "<table border=\"1\" class=\"dataframe\">\n",
       "  <thead>\n",
       "    <tr style=\"text-align: right;\">\n",
       "      <th></th>\n",
       "      <th>condition</th>\n",
       "      <th>repetitions</th>\n",
       "      <th>exercise_time</th>\n",
       "      <th>extroversion</th>\n",
       "    </tr>\n",
       "  </thead>\n",
       "  <tbody>\n",
       "    <tr>\n",
       "      <th>0</th>\n",
       "      <td>Control</td>\n",
       "      <td>12</td>\n",
       "      <td>98.00</td>\n",
       "      <td>6.5</td>\n",
       "    </tr>\n",
       "    <tr>\n",
       "      <th>1</th>\n",
       "      <td>Control</td>\n",
       "      <td>30</td>\n",
       "      <td>79.84</td>\n",
       "      <td>5.5</td>\n",
       "    </tr>\n",
       "    <tr>\n",
       "      <th>2</th>\n",
       "      <td>Control</td>\n",
       "      <td>19</td>\n",
       "      <td>49.19</td>\n",
       "      <td>3.5</td>\n",
       "    </tr>\n",
       "    <tr>\n",
       "      <th>3</th>\n",
       "      <td>Control</td>\n",
       "      <td>22</td>\n",
       "      <td>126.74</td>\n",
       "      <td>6.5</td>\n",
       "    </tr>\n",
       "    <tr>\n",
       "      <th>4</th>\n",
       "      <td>Control</td>\n",
       "      <td>5</td>\n",
       "      <td>53.20</td>\n",
       "      <td>2.5</td>\n",
       "    </tr>\n",
       "    <tr>\n",
       "      <th>...</th>\n",
       "      <td>...</td>\n",
       "      <td>...</td>\n",
       "      <td>...</td>\n",
       "      <td>...</td>\n",
       "    </tr>\n",
       "    <tr>\n",
       "      <th>85</th>\n",
       "      <td>Expertise</td>\n",
       "      <td>16</td>\n",
       "      <td>95.95</td>\n",
       "      <td>2.0</td>\n",
       "    </tr>\n",
       "    <tr>\n",
       "      <th>86</th>\n",
       "      <td>Expertise</td>\n",
       "      <td>28</td>\n",
       "      <td>322.43</td>\n",
       "      <td>5.0</td>\n",
       "    </tr>\n",
       "    <tr>\n",
       "      <th>87</th>\n",
       "      <td>Expertise</td>\n",
       "      <td>23</td>\n",
       "      <td>220.09</td>\n",
       "      <td>3.0</td>\n",
       "    </tr>\n",
       "    <tr>\n",
       "      <th>88</th>\n",
       "      <td>Expertise</td>\n",
       "      <td>4</td>\n",
       "      <td>50.40</td>\n",
       "      <td>3.5</td>\n",
       "    </tr>\n",
       "    <tr>\n",
       "      <th>89</th>\n",
       "      <td>Expertise</td>\n",
       "      <td>30</td>\n",
       "      <td>169.46</td>\n",
       "      <td>4.0</td>\n",
       "    </tr>\n",
       "  </tbody>\n",
       "</table>\n",
       "<p>89 rows × 4 columns</p>\n",
       "</div>"
      ],
      "text/plain": [
       "    condition  repetitions  exercise_time  extroversion\n",
       "0     Control           12          98.00           6.5\n",
       "1     Control           30          79.84           5.5\n",
       "2     Control           19          49.19           3.5\n",
       "3     Control           22         126.74           6.5\n",
       "4     Control            5          53.20           2.5\n",
       "..        ...          ...            ...           ...\n",
       "85  Expertise           16          95.95           2.0\n",
       "86  Expertise           28         322.43           5.0\n",
       "87  Expertise           23         220.09           3.0\n",
       "88  Expertise            4          50.40           3.5\n",
       "89  Expertise           30         169.46           4.0\n",
       "\n",
       "[89 rows x 4 columns]"
      ]
     },
     "execution_count": 17,
     "metadata": {},
     "output_type": "execute_result"
    }
   ],
   "source": [
    "df=df[[\"condition\", \"repetitions\", \"exercise_time\", \"extroversion\"]].dropna()\n",
    "df"
   ]
  },
  {
   "cell_type": "markdown",
   "metadata": {},
   "source": [
    "`describe` is a quick way of getting high-level stats on our dataframe:"
   ]
  },
  {
   "cell_type": "code",
   "execution_count": 16,
   "metadata": {},
   "outputs": [
    {
     "data": {
      "text/html": [
       "<div>\n",
       "<style scoped>\n",
       "    .dataframe tbody tr th:only-of-type {\n",
       "        vertical-align: middle;\n",
       "    }\n",
       "\n",
       "    .dataframe tbody tr th {\n",
       "        vertical-align: top;\n",
       "    }\n",
       "\n",
       "    .dataframe thead th {\n",
       "        text-align: right;\n",
       "    }\n",
       "</style>\n",
       "<table border=\"1\" class=\"dataframe\">\n",
       "  <thead>\n",
       "    <tr style=\"text-align: right;\">\n",
       "      <th></th>\n",
       "      <th>repetitions</th>\n",
       "      <th>exercise_time</th>\n",
       "      <th>extroversion</th>\n",
       "    </tr>\n",
       "  </thead>\n",
       "  <tbody>\n",
       "    <tr>\n",
       "      <th>count</th>\n",
       "      <td>89.000000</td>\n",
       "      <td>89.000000</td>\n",
       "      <td>89.000000</td>\n",
       "    </tr>\n",
       "    <tr>\n",
       "      <th>mean</th>\n",
       "      <td>21.359551</td>\n",
       "      <td>145.531011</td>\n",
       "      <td>4.398876</td>\n",
       "    </tr>\n",
       "    <tr>\n",
       "      <th>std</th>\n",
       "      <td>9.167937</td>\n",
       "      <td>98.365460</td>\n",
       "      <td>1.467798</td>\n",
       "    </tr>\n",
       "    <tr>\n",
       "      <th>min</th>\n",
       "      <td>3.000000</td>\n",
       "      <td>29.070000</td>\n",
       "      <td>1.500000</td>\n",
       "    </tr>\n",
       "    <tr>\n",
       "      <th>25%</th>\n",
       "      <td>13.000000</td>\n",
       "      <td>81.580000</td>\n",
       "      <td>3.500000</td>\n",
       "    </tr>\n",
       "    <tr>\n",
       "      <th>50%</th>\n",
       "      <td>24.000000</td>\n",
       "      <td>113.900000</td>\n",
       "      <td>4.500000</td>\n",
       "    </tr>\n",
       "    <tr>\n",
       "      <th>75%</th>\n",
       "      <td>30.000000</td>\n",
       "      <td>184.460000</td>\n",
       "      <td>5.500000</td>\n",
       "    </tr>\n",
       "    <tr>\n",
       "      <th>max</th>\n",
       "      <td>30.000000</td>\n",
       "      <td>589.930000</td>\n",
       "      <td>7.000000</td>\n",
       "    </tr>\n",
       "  </tbody>\n",
       "</table>\n",
       "</div>"
      ],
      "text/plain": [
       "       repetitions  exercise_time  extroversion\n",
       "count    89.000000      89.000000     89.000000\n",
       "mean     21.359551     145.531011      4.398876\n",
       "std       9.167937      98.365460      1.467798\n",
       "min       3.000000      29.070000      1.500000\n",
       "25%      13.000000      81.580000      3.500000\n",
       "50%      24.000000     113.900000      4.500000\n",
       "75%      30.000000     184.460000      5.500000\n",
       "max      30.000000     589.930000      7.000000"
      ]
     },
     "execution_count": 16,
     "metadata": {},
     "output_type": "execute_result"
    }
   ],
   "source": [
    "df.describe()"
   ]
  },
  {
   "cell_type": "markdown",
   "metadata": {},
   "source": [
    "`groupby` is a powerful way of creating groups in your data. Here, we group our data by condition, and compute the mean and standard deviation of each group:"
   ]
  },
  {
   "cell_type": "code",
   "execution_count": 63,
   "metadata": {},
   "outputs": [
    {
     "data": {
      "text/html": [
       "<div>\n",
       "<style scoped>\n",
       "    .dataframe tbody tr th:only-of-type {\n",
       "        vertical-align: middle;\n",
       "    }\n",
       "\n",
       "    .dataframe tbody tr th {\n",
       "        vertical-align: top;\n",
       "    }\n",
       "\n",
       "    .dataframe thead th {\n",
       "        text-align: right;\n",
       "    }\n",
       "</style>\n",
       "<table border=\"1\" class=\"dataframe\">\n",
       "  <thead>\n",
       "    <tr style=\"text-align: right;\">\n",
       "      <th></th>\n",
       "      <th>repetitions</th>\n",
       "      <th>exercise_time</th>\n",
       "      <th>extroverion</th>\n",
       "    </tr>\n",
       "    <tr>\n",
       "      <th>condition</th>\n",
       "      <th></th>\n",
       "      <th></th>\n",
       "      <th></th>\n",
       "    </tr>\n",
       "  </thead>\n",
       "  <tbody>\n",
       "    <tr>\n",
       "      <th>Control</th>\n",
       "      <td>15.136364</td>\n",
       "      <td>102.235909</td>\n",
       "      <td>4.590909</td>\n",
       "    </tr>\n",
       "    <tr>\n",
       "      <th>Expertise</th>\n",
       "      <td>19.450000</td>\n",
       "      <td>132.954500</td>\n",
       "      <td>4.425000</td>\n",
       "    </tr>\n",
       "    <tr>\n",
       "      <th>Goodwill</th>\n",
       "      <td>24.925926</td>\n",
       "      <td>174.285185</td>\n",
       "      <td>4.055556</td>\n",
       "    </tr>\n",
       "    <tr>\n",
       "      <th>Similarity</th>\n",
       "      <td>25.300000</td>\n",
       "      <td>166.914000</td>\n",
       "      <td>4.625000</td>\n",
       "    </tr>\n",
       "  </tbody>\n",
       "</table>\n",
       "</div>"
      ],
      "text/plain": [
       "            repetitions  exercise_time  extroverion\n",
       "condition                                          \n",
       "Control       15.136364     102.235909     4.590909\n",
       "Expertise     19.450000     132.954500     4.425000\n",
       "Goodwill      24.925926     174.285185     4.055556\n",
       "Similarity    25.300000     166.914000     4.625000"
      ]
     },
     "execution_count": 63,
     "metadata": {},
     "output_type": "execute_result"
    }
   ],
   "source": [
    "df.groupby(\"condition\").mean()"
   ]
  },
  {
   "cell_type": "code",
   "execution_count": 18,
   "metadata": {},
   "outputs": [
    {
     "data": {
      "text/html": [
       "<div>\n",
       "<style scoped>\n",
       "    .dataframe tbody tr th:only-of-type {\n",
       "        vertical-align: middle;\n",
       "    }\n",
       "\n",
       "    .dataframe tbody tr th {\n",
       "        vertical-align: top;\n",
       "    }\n",
       "\n",
       "    .dataframe thead th {\n",
       "        text-align: right;\n",
       "    }\n",
       "</style>\n",
       "<table border=\"1\" class=\"dataframe\">\n",
       "  <thead>\n",
       "    <tr style=\"text-align: right;\">\n",
       "      <th></th>\n",
       "      <th>repetitions</th>\n",
       "      <th>exercise_time</th>\n",
       "      <th>extroversion</th>\n",
       "    </tr>\n",
       "    <tr>\n",
       "      <th>condition</th>\n",
       "      <th></th>\n",
       "      <th></th>\n",
       "      <th></th>\n",
       "    </tr>\n",
       "  </thead>\n",
       "  <tbody>\n",
       "    <tr>\n",
       "      <th>Control</th>\n",
       "      <td>8.402355</td>\n",
       "      <td>64.702059</td>\n",
       "      <td>1.600866</td>\n",
       "    </tr>\n",
       "    <tr>\n",
       "      <th>Expertise</th>\n",
       "      <td>8.893966</td>\n",
       "      <td>77.001409</td>\n",
       "      <td>1.184050</td>\n",
       "    </tr>\n",
       "    <tr>\n",
       "      <th>Goodwill</th>\n",
       "      <td>8.217832</td>\n",
       "      <td>122.685440</td>\n",
       "      <td>1.546294</td>\n",
       "    </tr>\n",
       "    <tr>\n",
       "      <th>Similarity</th>\n",
       "      <td>7.526095</td>\n",
       "      <td>98.323851</td>\n",
       "      <td>1.485677</td>\n",
       "    </tr>\n",
       "  </tbody>\n",
       "</table>\n",
       "</div>"
      ],
      "text/plain": [
       "            repetitions  exercise_time  extroversion\n",
       "condition                                           \n",
       "Control        8.402355      64.702059      1.600866\n",
       "Expertise      8.893966      77.001409      1.184050\n",
       "Goodwill       8.217832     122.685440      1.546294\n",
       "Similarity     7.526095      98.323851      1.485677"
      ]
     },
     "execution_count": 18,
     "metadata": {},
     "output_type": "execute_result"
    }
   ],
   "source": [
    "df.groupby(\"condition\").std()"
   ]
  },
  {
   "cell_type": "markdown",
   "metadata": {},
   "source": [
    "\n",
    "## Plotting\n",
    "\n",
    "We have several options to plot data. Here, a simple example to plot the mean number of repetitions per conditions:"
   ]
  },
  {
   "cell_type": "code",
   "execution_count": 39,
   "metadata": {},
   "outputs": [
    {
     "data": {
      "text/plain": [
       "<matplotlib.axes._subplots.AxesSubplot at 0x7f81abadad90>"
      ]
     },
     "execution_count": 39,
     "metadata": {},
     "output_type": "execute_result"
    },
    {
     "data": {
      "image/png": "[encoded data removed]",
      "text/plain": [
       "<Figure size 432x288 with 1 Axes>"
      ]
     },
     "metadata": {},
     "output_type": "display_data"
    }
   ],
   "source": [
    "df.groupby(\"condition\")[\"repetitions\"].mean().plot.bar()"
   ]
  },
  {
   "cell_type": "markdown",
   "metadata": {},
   "source": [
    "The Seaborn package (aliased here to `sns`) makes it easy to plot more complex graph. We overlay here a strip plot on top of a box plot, showing both the data distribution along with the summary stats:\n"
   ]
  },
  {
   "cell_type": "code",
   "execution_count": 41,
   "metadata": {},
   "outputs": [
    {
     "data": {
      "text/plain": [
       "<matplotlib.axes._subplots.AxesSubplot at 0x7f81aba15b80>"
      ]
     },
     "execution_count": 41,
     "metadata": {},
     "output_type": "execute_result"
    },
    {
     "data": {
      "image/png": "[encoded data removed]",
      "text/plain": [
       "<Figure size 432x288 with 1 Axes>"
      ]
     },
     "metadata": {},
     "output_type": "display_data"
    }
   ],
   "source": [
    "sns.boxplot(data=df,x=\"condition\", y=\"repetitions\")\n",
    "sns.stripplot(data=df,x=\"condition\", y=\"repetitions\",size=10)"
   ]
  },
  {
   "cell_type": "markdown",
   "metadata": {},
   "source": [
    "Here, we overlay the data distribution for all our participants, across the 4 conditions:"
   ]
  },
  {
   "cell_type": "code",
   "execution_count": 42,
   "metadata": {},
   "outputs": [
    {
     "data": {
      "text/plain": [
       "<matplotlib.axes._subplots.AxesSubplot at 0x7f81a99e1bb0>"
      ]
     },
     "execution_count": 42,
     "metadata": {},
     "output_type": "execute_result"
    },
    {
     "data": {
      "image/png": "[encoded data removed]",
      "text/plain": [
       "<Figure size 432x288 with 1 Axes>"
      ]
     },
     "metadata": {},
     "output_type": "display_data"
    }
   ],
   "source": [
    "sns.distplot(df[df.condition==\"Control\"][\"repetitions\"])\n",
    "sns.distplot(df[df.condition==\"Goodwill\"][\"repetitions\"])\n",
    "sns.distplot(df[df.condition==\"Similarity\"][\"repetitions\"])\n",
    "sns.distplot(df[df.condition==\"Expertise\"][\"repetitions\"])"
   ]
  },
  {
   "cell_type": "markdown",
   "metadata": {},
   "source": [
    "## Statistical analysis\n",
    "\n",
    "A couple of example of statistical analysis, first running t-tests. We can see that there is no significant different between the *Expertise* group and the *Control* group:"
   ]
  },
  {
   "cell_type": "code",
   "execution_count": 47,
   "metadata": {},
   "outputs": [
    {
     "data": {
      "text/plain": [
       "Ttest_indResult(statistic=-1.616083168428035, pvalue=0.11393732292717891)"
      ]
     },
     "execution_count": 47,
     "metadata": {},
     "output_type": "execute_result"
    }
   ],
   "source": [
    "ttest_ind(df[df.condition==\"Control\"].repetitions, df[df.condition==\"Expertise\"].repetitions)"
   ]
  },
  {
   "cell_type": "code",
   "execution_count": 48,
   "metadata": {},
   "outputs": [
    {
     "data": {
      "text/plain": [
       "Ttest_indResult(statistic=-4.106192192069859, pvalue=0.00015923825697069873)"
      ]
     },
     "execution_count": 48,
     "metadata": {},
     "output_type": "execute_result"
    }
   ],
   "source": [
    "ttest_ind(df[df.condition==\"Control\"].repetitions, df[df.condition==\"Goodwill\"].repetitions)"
   ]
  },
  {
   "cell_type": "code",
   "execution_count": 49,
   "metadata": {},
   "outputs": [
    {
     "data": {
      "text/plain": [
       "Ttest_indResult(statistic=-4.1130444932836925, pvalue=0.00018887852190108234)"
      ]
     },
     "execution_count": 49,
     "metadata": {},
     "output_type": "execute_result"
    }
   ],
   "source": [
    "ttest_ind(df[df.condition==\"Control\"].repetitions, df[df.condition==\"Similarity\"].repetitions)"
   ]
  },
  {
   "cell_type": "markdown",
   "metadata": {},
   "source": [
    "### Correlations\n",
    "\n",
    "Is there a correlation between #repetitions and exercice time?"
   ]
  },
  {
   "cell_type": "code",
   "execution_count": 50,
   "metadata": {
    "scrolled": true
   },
   "outputs": [
    {
     "data": {
      "text/plain": [
       "<matplotlib.axes._subplots.AxesSubplot at 0x7f81a98487f0>"
      ]
     },
     "execution_count": 50,
     "metadata": {},
     "output_type": "execute_result"
    },
    {
     "data": {
      "image/png": "[encoded data removed]",
      "text/plain": [
       "<Figure size 432x288 with 1 Axes>"
      ]
     },
     "metadata": {},
     "output_type": "display_data"
    }
   ],
   "source": [
    "sns.regplot(df.repetitions, df.exercise_time)\n"
   ]
  },
  {
   "cell_type": "code",
   "execution_count": 56,
   "metadata": {},
   "outputs": [
    {
     "data": {
      "text/plain": [
       "(0.5368277680289255, 5.858200209382025e-08)"
      ]
     },
     "execution_count": 56,
     "metadata": {},
     "output_type": "execute_result"
    }
   ],
   "source": [
    "pearsonr(df.repetitions, df.exercise_time)"
   ]
  },
  {
   "cell_type": "markdown",
   "metadata": {},
   "source": [
    "...and between the number of repetitions and the level of extroversion?"
   ]
  },
  {
   "cell_type": "code",
   "execution_count": 53,
   "metadata": {},
   "outputs": [
    {
     "data": {
      "text/plain": [
       "<matplotlib.axes._subplots.AxesSubplot at 0x7f81a97dbb80>"
      ]
     },
     "execution_count": 53,
     "metadata": {},
     "output_type": "execute_result"
    },
    {
     "data": {
      "image/png": "[encoded data removed]",
      "text/plain": [
       "<Figure size 432x288 with 1 Axes>"
      ]
     },
     "metadata": {},
     "output_type": "display_data"
    }
   ],
   "source": [
    "sns.regplot(df.repetitions, df.extroversion)"
   ]
  },
  {
   "cell_type": "code",
   "execution_count": 55,
   "metadata": {},
   "outputs": [
    {
     "data": {
      "text/plain": [
       "(-0.04160155051183222, 0.6986912495876373)"
      ]
     },
     "execution_count": 55,
     "metadata": {},
     "output_type": "execute_result"
    }
   ],
   "source": [
    "pearsonr(df.repetitions, df.extroversion)"
   ]
  }
 ],
 "metadata": {
  "kernelspec": {
   "display_name": "Python 3",
   "language": "python",
   "name": "python3"
  },
  "language_info": {
   "codemirror_mode": {
    "name": "ipython",
    "version": 3
   },
   "file_extension": ".py",
   "mimetype": "text/x-python",
   "name": "python",
   "nbconvert_exporter": "python",
   "pygments_lexer": "ipython3",
   "version": "3.8.5"
  }
 },
 "nbformat": 4,
 "nbformat_minor": 2
}
